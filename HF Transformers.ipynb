{
 "cells": [
  {
   "cell_type": "code",
   "execution_count": 1,
   "id": "3cdc2d1a-d512-41b2-9e04-746a4940d6e1",
   "metadata": {},
   "outputs": [],
   "source": [
    "# pip install transformers torch\n",
    "# pip install sentencepiece\n",
    "# pip install sacremoses"
   ]
  },
  {
   "cell_type": "code",
   "execution_count": 2,
   "id": "0d045df2-52cb-48ab-a075-42817ef5b469",
   "metadata": {},
   "outputs": [
    {
     "name": "stderr",
     "output_type": "stream",
     "text": [
      "Some non-default generation parameters are set in the model config. These should go into a GenerationConfig file (https://huggingface.co/docs/transformers/generation_strategies#save-a-custom-decoding-strategy-with-your-model) instead. This warning will be raised to an exception in v4.41.\n",
      "Non-default generation parameters: {'max_length': 512, 'num_beams': 6, 'bad_words_ids': [[63429]], 'forced_eos_token_id': 0}\n"
     ]
    },
    {
     "data": {
      "text/plain": [
       "('./opus-mt-pl-en/tokenizer_config.json',\n",
       " './opus-mt-pl-en/special_tokens_map.json',\n",
       " './opus-mt-pl-en/vocab.json',\n",
       " './opus-mt-pl-en/source.spm',\n",
       " './opus-mt-pl-en/target.spm',\n",
       " './opus-mt-pl-en/added_tokens.json')"
      ]
     },
     "execution_count": 2,
     "metadata": {},
     "output_type": "execute_result"
    }
   ],
   "source": [
    "# Load model directly\n",
    "from transformers import AutoTokenizer, MarianMTModel\n",
    "\n",
    "src = \"pl\"  # source language\n",
    "trg = \"en\"  # target language\n",
    "\n",
    "model_name = f\"Helsinki-NLP/opus-mt-{src}-{trg}\"\n",
    "tokenizer = AutoTokenizer.from_pretrained(model_name)\n",
    "model = MarianMTModel.from_pretrained(model_name)\n",
    "\n",
    "# Save the model and tokenizer locally\n",
    "model.save_pretrained(f'./opus-mt-{src}-{trg}')\n",
    "tokenizer.save_pretrained(f'./opus-mt-{src}-{trg}')"
   ]
  },
  {
   "cell_type": "code",
   "execution_count": 3,
   "id": "51e185ee-e97e-4993-ba31-25719662e9c2",
   "metadata": {},
   "outputs": [
    {
     "name": "stdout",
     "output_type": "stream",
     "text": [
      "Good morning, how are you?\n"
     ]
    }
   ],
   "source": [
    "# Use a pipeline as a high-level helper\n",
    "from transformers import pipeline\n",
    "\n",
    "pipe = pipeline(\"translation\", model=model_name)\n",
    "\n",
    "trans_dct = pipe(\"Dzień dobry! Jak się masz?\")[0]\n",
    "print(trans_dct['translation_text'])"
   ]
  },
  {
   "cell_type": "code",
   "execution_count": 4,
   "id": "93ea44a7-b886-46cc-90c7-cdb51c6d3b16",
   "metadata": {},
   "outputs": [
    {
     "name": "stdout",
     "output_type": "stream",
     "text": [
      "The model has 77,138,944 parameters.\n"
     ]
    }
   ],
   "source": [
    "# Load the model and tokenizer\n",
    "from transformers import AutoTokenizer, MarianMTModel\n",
    "\n",
    "# Load the model and tokenizer from the local directory\n",
    "tokenizer = AutoTokenizer.from_pretrained(f'./opus-mt-{src}-{trg}')\n",
    "model = MarianMTModel.from_pretrained(f'./opus-mt-{src}-{trg}')\n",
    "print(f\"The model has {model.num_parameters():,d} parameters.\")\n",
    "\n",
    "# Function to translate text from Polish to English\n",
    "def translate(text, model, tokenizer):\n",
    "    # Tokenize the input text\n",
    "    batch = tokenizer([text], return_tensors=\"pt\")\n",
    "    \n",
    "    # Generate translation using the model\n",
    "    generated_ids = model.generate(**batch)\n",
    "    \n",
    "    # Decode the translated tokens to get the translated text\n",
    "    translated_text = tokenizer.batch_decode(generated_ids, skip_special_tokens=True)[0]\n",
    "    \n",
    "    return translated_text"
   ]
  },
  {
   "cell_type": "code",
   "execution_count": 5,
   "id": "7eda73c8-7410-4bdf-85b1-77e0c8ca3318",
   "metadata": {},
   "outputs": [
    {
     "name": "stdout",
     "output_type": "stream",
     "text": [
      "Good morning, how are you?\n"
     ]
    }
   ],
   "source": [
    "# Example usage\n",
    "polish_text = \"Dzień dobry! Jak się masz?\"\n",
    "english_translation = translate(polish_text, model, tokenizer)\n",
    "print(english_translation) "
   ]
  },
  {
   "cell_type": "code",
   "execution_count": 6,
   "id": "7a8bb2b6-f4a3-454d-8305-1945db803158",
   "metadata": {},
   "outputs": [
    {
     "name": "stdout",
     "output_type": "stream",
     "text": [
      "Litwo, Ojczyzno moja! ty jesteś jak zdrowie; -> Lithuania, my homeland, you are like health; \n",
      "\n",
      "Ile cię trzeba cenić, ten tylko się dowie, -> As much as you need to be valued, this one will only find out, \n",
      "\n",
      "Kto cię stracił. Dziś piękność twą w całej ozdobie -> Who has lost you today your beauty in all its adornment \n",
      "\n",
      "Widzę i opisuję, bo tęsknię po tobie. -> I see and describe because I miss you. \n",
      "\n",
      "Panno święta, co Jasnej bronisz Częstochowy -> Miss Christmas, what are you defending Jasna Częstochowa? \n",
      "\n",
      "I w Ostrej świecisz Bramie! Ty, co gród zamkowy -> And in the Sighty One you glow the Gate! \n",
      "\n",
      "Nowogródzki ochraniasz z jego wiernym ludem! -> You protect Novgorod with his faithful people! \n",
      "\n",
      "Jak mnie dziecko do zdrowia powróciłaś cudem -> How did my baby recover by a miracle? \n",
      "\n",
      "Gdy od płaczącej matki, pod Twoją opiekę -> ♪ When from a crying mother ♪ ♪ Under your care ♪ \n",
      "\n",
      "Ofiarowany martwą podniosłem powiekę; -> Sacrificed dead I lifted up the eyelid; \n",
      "\n",
      "I zaraz mogłem pieszo, do Twych świątyń progu -> ♪ And I could walk to your temples ♪ \n",
      "\n",
      "Iść za wrócone życie podziękować Bogu -> Go for a returned life to thank God \n",
      "\n",
      "Tak nas powrócisz cudem na Ojczyzny łono! -> That's how you're gonna miraculously return to your homeland! \n",
      "\n",
      "Tymczasem, przenoś moją duszę utęsknioną -> In the meantime, move my soul longing \n",
      "\n",
      "Do tych pagórków leśnych, do tych łąk zielonych, -> To these hills of the forest, to these green meadows, \n",
      "\n",
      "Szeroko nad błękitnym Niemnem rozciągnionych; -> Wide above the blue Niemno stretched out; \n",
      "\n",
      "Do tych pól malowanych zbożem rozmaitem, -> To these fields painted with a variety of grain, \n",
      "\n",
      "Wyzłacanych pszenicą, posrebrzanych żytem; -> Golded with wheat, silvered with rye; \n",
      "\n",
      "Gdzie bursztynowy świerzop, gryka jak śnieg biała, -> Where's the amber spud, the buckwheat like white snow, \n",
      "\n",
      "Gdzie panieńskim rumieńcem dzięcielina pała, -> Where the maiden's blushing gummy dick, \n",
      "\n",
      "A wszystko przepasane jakby wstęgą, miedzą -> ♪ And it's all wrapped up like a ribbon ♪ ♪ They hold ♪ \n",
      "\n",
      "Zieloną, na niej zrzadka ciche grusze siedzą. -> Green, it's barely got a quiet pear sitting on it. \n",
      "\n"
     ]
    }
   ],
   "source": [
    "import re\n",
    "\n",
    "polish_text = \"\"\"\n",
    "Litwo, Ojczyzno moja! ty jesteś jak zdrowie;\n",
    "Ile cię trzeba cenić, ten tylko się dowie,\n",
    "Kto cię stracił. Dziś piękność twą w całej ozdobie\n",
    "Widzę i opisuję, bo tęsknię po tobie.\n",
    "\n",
    "Panno święta, co Jasnej bronisz Częstochowy\n",
    "I w Ostrej świecisz Bramie! Ty, co gród zamkowy\n",
    "Nowogródzki ochraniasz z jego wiernym ludem!\n",
    "Jak mnie dziecko do zdrowia powróciłaś cudem\n",
    "\n",
    "Gdy od płaczącej matki, pod Twoją opiekę\n",
    "Ofiarowany martwą podniosłem powiekę;\n",
    "I zaraz mogłem pieszo, do Twych świątyń progu\n",
    "Iść za wrócone życie podziękować Bogu\n",
    "\n",
    "Tak nas powrócisz cudem na Ojczyzny łono!\n",
    "Tymczasem, przenoś moją duszę utęsknioną\n",
    "Do tych pagórków leśnych, do tych łąk zielonych,\n",
    "Szeroko nad błękitnym Niemnem rozciągnionych;\n",
    "\n",
    "Do tych pól malowanych zbożem rozmaitem,\n",
    "Wyzłacanych pszenicą, posrebrzanych żytem;\n",
    "Gdzie bursztynowy świerzop, gryka jak śnieg biała,\n",
    "Gdzie panieńskim rumieńcem dzięcielina pała,\n",
    "A wszystko przepasane jakby wstęgą, miedzą\n",
    "Zieloną, na niej zrzadka ciche grusze siedzą.\n",
    "\"\"\"\n",
    "split_text = re.split('\\n', polish_text)\n",
    "\n",
    "for sentence in split_text:\n",
    "    sentence = sentence.strip()\n",
    "    if len(sentence) > 0:\n",
    "        english_translation = translate(sentence, model, tokenizer)\n",
    "        print(f'{sentence} -> {english_translation}\\n')"
   ]
  }
 ],
 "metadata": {
  "kernelspec": {
   "display_name": "Python 3 (ipykernel)",
   "language": "python",
   "name": "python3"
  },
  "language_info": {
   "codemirror_mode": {
    "name": "ipython",
    "version": 3
   },
   "file_extension": ".py",
   "mimetype": "text/x-python",
   "name": "python",
   "nbconvert_exporter": "python",
   "pygments_lexer": "ipython3",
   "version": "3.10.12"
  }
 },
 "nbformat": 4,
 "nbformat_minor": 5
}
