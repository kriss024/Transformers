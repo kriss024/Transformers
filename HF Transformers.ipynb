{
 "cells": [
  {
   "cell_type": "code",
   "execution_count": 1,
   "id": "3cdc2d1a-d512-41b2-9e04-746a4940d6e1",
   "metadata": {},
   "outputs": [],
   "source": [
    "# pip install transformers torch\n",
    "# pip install sentencepiece\n",
    "# pip install sacremoses"
   ]
  },
  {
   "cell_type": "code",
   "execution_count": 2,
   "id": "51e185ee-e97e-4993-ba31-25719662e9c2",
   "metadata": {},
   "outputs": [
    {
     "name": "stderr",
     "output_type": "stream",
     "text": [
      "Some non-default generation parameters are set in the model config. These should go into a GenerationConfig file (https://huggingface.co/docs/transformers/generation_strategies#save-a-custom-decoding-strategy-with-your-model) instead. This warning will be raised to an exception in v4.41.\n",
      "Non-default generation parameters: {'max_length': 512, 'num_beams': 6, 'bad_words_ids': [[63429]], 'forced_eos_token_id': 0}\n"
     ]
    },
    {
     "data": {
      "text/plain": [
       "('./opus-mt-pl-en/tokenizer_config.json',\n",
       " './opus-mt-pl-en/special_tokens_map.json',\n",
       " './opus-mt-pl-en/vocab.json',\n",
       " './opus-mt-pl-en/source.spm',\n",
       " './opus-mt-pl-en/target.spm',\n",
       " './opus-mt-pl-en/added_tokens.json')"
      ]
     },
     "execution_count": 2,
     "metadata": {},
     "output_type": "execute_result"
    }
   ],
   "source": [
    "# Download the pre-trained model\n",
    "from transformers import MarianMTModel, MarianTokenizer\n",
    "\n",
    "# Download the model and tokenizer\n",
    "model_name = 'Helsinki-NLP/opus-mt-pl-en'\n",
    "model_pl_en = MarianMTModel.from_pretrained(model_name)\n",
    "tokenizer_pl_en = MarianTokenizer.from_pretrained(model_name)\n",
    "\n",
    "# Save the model and tokenizer locally\n",
    "model_pl_en.save_pretrained('./opus-mt-pl-en')\n",
    "tokenizer_pl_en.save_pretrained('./opus-mt-pl-en')"
   ]
  },
  {
   "cell_type": "code",
   "execution_count": 3,
   "id": "93ea44a7-b886-46cc-90c7-cdb51c6d3b16",
   "metadata": {},
   "outputs": [
    {
     "name": "stdout",
     "output_type": "stream",
     "text": [
      "The model has 77,138,944 parameters.\n"
     ]
    }
   ],
   "source": [
    "# Load the model and tokenizer\n",
    "import torch\n",
    "from transformers import MarianMTModel, MarianTokenizer\n",
    "\n",
    "# Load the model and tokenizer from the local directory\n",
    "device = torch.device(\"cuda\" if torch.cuda.is_available() else \"cpu\")\n",
    "model_pl_en = MarianMTModel.from_pretrained('./opus-mt-pl-en').to(device)\n",
    "tokenizer_pl_en = MarianTokenizer.from_pretrained('./opus-mt-pl-en')\n",
    "\n",
    "print(f\"The model has {model_pl_en.num_parameters():,d} parameters.\")\n",
    "\n",
    "# Function to translate text from Polish to English\n",
    "def translate_polish_to_english(text, model, tokenizer):\n",
    "    # Tokenize the input text\n",
    "    inputs = tokenizer(text, return_tensors=\"pt\", padding=True)\n",
    "    \n",
    "    # Generate translation using the model\n",
    "    translated_tokens = model.generate(**inputs)\n",
    "    \n",
    "    # Decode the translated tokens to get the translated text\n",
    "    translated_text = tokenizer.batch_decode(translated_tokens, skip_special_tokens=True)[0]\n",
    "    \n",
    "    return translated_text"
   ]
  },
  {
   "cell_type": "code",
   "execution_count": 4,
   "id": "7eda73c8-7410-4bdf-85b1-77e0c8ca3318",
   "metadata": {},
   "outputs": [
    {
     "name": "stdout",
     "output_type": "stream",
     "text": [
      "Good morning, how are you?\n"
     ]
    }
   ],
   "source": [
    "# Example usage\n",
    "polish_text = \"Dzień dobry! Jak się masz?\"\n",
    "english_translation = translate_polish_to_english(polish_text, model_pl_en, tokenizer_pl_en)\n",
    "print(english_translation) "
   ]
  },
  {
   "cell_type": "code",
   "execution_count": 5,
   "id": "7a8bb2b6-f4a3-454d-8305-1945db803158",
   "metadata": {},
   "outputs": [
    {
     "name": "stdout",
     "output_type": "stream",
     "text": [
      "Litwo, Ojczyzno moja! ty jesteś jak zdrowie; -> Lithuania, my homeland, you are like health; \n",
      "\n",
      "Ile cię trzeba cenić, ten tylko się dowie, -> As much as you need to be valued, this one will only find out, \n",
      "\n",
      "Kto cię stracił. Dziś piękność twą w całej ozdobie -> Who has lost you today your beauty in all its adornment \n",
      "\n",
      "Widzę i opisuję, bo tęsknię po tobie. -> I see and describe because I miss you. \n",
      "\n",
      "Panno święta, co Jasnej bronisz Częstochowy -> Miss Christmas, what are you defending Jasna Częstochowa? \n",
      "\n",
      "I w Ostrej świecisz Bramie! Ty, co gród zamkowy -> And in the Sighty One you glow the Gate! \n",
      "\n",
      "Nowogródzki ochraniasz z jego wiernym ludem! -> You protect Novgorod with his faithful people! \n",
      "\n",
      "Jak mnie dziecko do zdrowia powróciłaś cudem -> How did my baby recover by a miracle? \n",
      "\n",
      "Gdy od płaczącej matki, pod Twoją opiekę -> ♪ When from a crying mother ♪ ♪ Under your care ♪ \n",
      "\n",
      "Ofiarowany martwą podniosłem powiekę; -> Sacrificed dead I lifted up the eyelid; \n",
      "\n",
      "I zaraz mogłem pieszo, do Twych świątyń progu -> ♪ And I could walk to your temples ♪ \n",
      "\n",
      "Iść za wrócone życie podziękować Bogu -> Go for a returned life to thank God \n",
      "\n",
      "Tak nas powrócisz cudem na Ojczyzny łono! -> That's how you're gonna miraculously return to your homeland! \n",
      "\n",
      "Tymczasem, przenoś moją duszę utęsknioną -> In the meantime, move my soul longing \n",
      "\n",
      "Do tych pagórków leśnych, do tych łąk zielonych, -> To these hills of the forest, to these green meadows, \n",
      "\n",
      "Szeroko nad błękitnym Niemnem rozciągnionych; -> Wide above the blue Niemno stretched out; \n",
      "\n",
      "Do tych pól malowanych zbożem rozmaitem, -> To these fields painted with a variety of grain, \n",
      "\n",
      "Wyzłacanych pszenicą, posrebrzanych żytem; -> Golded with wheat, silvered with rye; \n",
      "\n",
      "Gdzie bursztynowy świerzop, gryka jak śnieg biała, -> Where's the amber spud, the buckwheat like white snow, \n",
      "\n",
      "Gdzie panieńskim rumieńcem dzięcielina pała, -> Where the maiden's blushing gummy dick, \n",
      "\n",
      "A wszystko przepasane jakby wstęgą, miedzą -> ♪ And it's all wrapped up like a ribbon ♪ ♪ They hold ♪ \n",
      "\n",
      "Zieloną, na niej zrzadka ciche grusze siedzą. -> Green, it's barely got a quiet pear sitting on it. \n",
      "\n"
     ]
    }
   ],
   "source": [
    "import re\n",
    "\n",
    "polish_text = \"\"\"\n",
    "Litwo, Ojczyzno moja! ty jesteś jak zdrowie;\n",
    "Ile cię trzeba cenić, ten tylko się dowie,\n",
    "Kto cię stracił. Dziś piękność twą w całej ozdobie\n",
    "Widzę i opisuję, bo tęsknię po tobie.\n",
    "\n",
    "Panno święta, co Jasnej bronisz Częstochowy\n",
    "I w Ostrej świecisz Bramie! Ty, co gród zamkowy\n",
    "Nowogródzki ochraniasz z jego wiernym ludem!\n",
    "Jak mnie dziecko do zdrowia powróciłaś cudem\n",
    "\n",
    "Gdy od płaczącej matki, pod Twoją opiekę\n",
    "Ofiarowany martwą podniosłem powiekę;\n",
    "I zaraz mogłem pieszo, do Twych świątyń progu\n",
    "Iść za wrócone życie podziękować Bogu\n",
    "\n",
    "Tak nas powrócisz cudem na Ojczyzny łono!\n",
    "Tymczasem, przenoś moją duszę utęsknioną\n",
    "Do tych pagórków leśnych, do tych łąk zielonych,\n",
    "Szeroko nad błękitnym Niemnem rozciągnionych;\n",
    "\n",
    "Do tych pól malowanych zbożem rozmaitem,\n",
    "Wyzłacanych pszenicą, posrebrzanych żytem;\n",
    "Gdzie bursztynowy świerzop, gryka jak śnieg biała,\n",
    "Gdzie panieńskim rumieńcem dzięcielina pała,\n",
    "A wszystko przepasane jakby wstęgą, miedzą\n",
    "Zieloną, na niej zrzadka ciche grusze siedzą.\n",
    "\"\"\"\n",
    "split_text = re.split('\\n', polish_text)\n",
    "\n",
    "for sentence in split_text:\n",
    "    sentence = sentence.strip()\n",
    "    if len(sentence) > 0:\n",
    "        english_translation = translate_polish_to_english(sentence, model_pl_en, tokenizer_pl_en)\n",
    "        print(f'{sentence} -> {english_translation} \\n')"
   ]
  }
 ],
 "metadata": {
  "kernelspec": {
   "display_name": "Python 3 (ipykernel)",
   "language": "python",
   "name": "python3"
  },
  "language_info": {
   "codemirror_mode": {
    "name": "ipython",
    "version": 3
   },
   "file_extension": ".py",
   "mimetype": "text/x-python",
   "name": "python",
   "nbconvert_exporter": "python",
   "pygments_lexer": "ipython3",
   "version": "3.10.12"
  }
 },
 "nbformat": 4,
 "nbformat_minor": 5
}
